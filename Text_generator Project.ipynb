{
 "cells": [
  {
   "cell_type": "code",
   "execution_count": 2,
   "id": "7d4b2f72-da3d-4e05-a7d7-859ef045a073",
   "metadata": {},
   "outputs": [
    {
     "name": "stdout",
     "output_type": "stream",
     "text": [
      "Generated Text:\n",
      " text based on patterns from the input.\n"
     ]
    }
   ],
   "source": [
    "import random\n",
    "\n",
    "def build_markov_chain(text, n=1):\n",
    "    words = text.split()\n",
    "    index = n\n",
    "    chain = {}\n",
    "\n",
    "    for i in range(len(words) - n):\n",
    "        key = tuple(words[i:i + n])\n",
    "        value = words[i + n]\n",
    "        if key not in chain:\n",
    "            chain[key] = []\n",
    "        chain[key].append(value)\n",
    "\n",
    "    return chain\n",
    "\n",
    "def generate_text(chain, length=50):\n",
    "    key = random.choice(list(chain.keys()))\n",
    "    result = list(key)\n",
    "\n",
    "    for _ in range(length):\n",
    "        next_words = chain.get(key)\n",
    "        if not next_words:\n",
    "            break\n",
    "        next_word = random.choice(next_words)\n",
    "        result.append(next_word)\n",
    "        key = tuple(result[-len(key):])\n",
    "    \n",
    "    return ' '.join(result)\n",
    "\n",
    "# Sample input text\n",
    "input_text = \"\"\"This is a simple text generator using a basic Markov model. \n",
    "It creates random-like text based on patterns from the input.\"\"\"\n",
    "\n",
    "# Create the chain and generate text\n",
    "chain = build_markov_chain(input_text, n=2)\n",
    "output = generate_text(chain, length=30)\n",
    "\n",
    "print(\"Generated Text:\\n\", output)\n",
    "\n"
   ]
  },
  {
   "cell_type": "code",
   "execution_count": null,
   "id": "a355a073-2ac0-4960-869c-43e09cb9092a",
   "metadata": {},
   "outputs": [],
   "source": []
  }
 ],
 "metadata": {
  "kernelspec": {
   "display_name": "Python [conda env:base] *",
   "language": "python",
   "name": "conda-base-py"
  },
  "language_info": {
   "codemirror_mode": {
    "name": "ipython",
    "version": 3
   },
   "file_extension": ".py",
   "mimetype": "text/x-python",
   "name": "python",
   "nbconvert_exporter": "python",
   "pygments_lexer": "ipython3",
   "version": "3.12.7"
  }
 },
 "nbformat": 4,
 "nbformat_minor": 5
}
